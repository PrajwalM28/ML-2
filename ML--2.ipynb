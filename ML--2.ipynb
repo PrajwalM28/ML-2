{
 "cells": [
  {
   "cell_type": "markdown",
   "id": "0b80f18b-cec7-47af-9143-b1a6f0990474",
   "metadata": {},
   "source": [
    "# Q1.\n",
    "\n",
    "Define overfitting and underfitting in machine learning. What are the consequences of each, and how\n",
    "can they be mitigated?"
   ]
  },
  {
   "cell_type": "markdown",
   "id": "3fd70ee9-389e-4b3e-9593-4e59f6179b17",
   "metadata": {},
   "source": [
    "- Overfitting : \n",
    "    \n",
    "    - when model learns training data too well , but poorly on new unseen data.\n",
    "    - High accuracy on training set but low accuracy on test set.\n",
    "    - low bias and high variance\n",
    "    - Regularization\n",
    "    - Cross-Validation.\n",
    "    \n",
    "- Underfitting : \n",
    "    \n",
    "    - when a model performs poorly on both training set and new data.\n",
    "    - high bias and high variance\n",
    "    - inability to capture the underlying trends in the data\n",
    "    - Increase model complexity\n",
    "    - Feature Engineering"
   ]
  },
  {
   "cell_type": "markdown",
   "id": "8ea46f84-8128-43d1-aa8f-f91a7e7e3cc4",
   "metadata": {},
   "source": [
    "# Q2.\n",
    "\n",
    "How can we reduce overfitting? Explain in brief."
   ]
  },
  {
   "cell_type": "markdown",
   "id": "511d040e-2c58-4898-bdef-fb3ba2dddfc9",
   "metadata": {},
   "source": [
    "- Cross-Validation : \n",
    "    \n",
    "    - Use techniques like k-fold cross-validation to assess the model's performance on different subsets of the data.\n",
    "    \n",
    "- Feature Selection : \n",
    "\n",
    "    - Identify and remove irrelevant or redundant features that may contribute to overfitting.\n",
    "    \n",
    "- Regularization :\n",
    "\n",
    "    - Introduce regularization terms in the models objective function to penalize overly complex models."
   ]
  },
  {
   "cell_type": "markdown",
   "id": "1a5f12de-e644-4544-b505-b4cd76d74ef8",
   "metadata": {},
   "source": [
    "# Q3.\n",
    "\n",
    "Explain underfitting. List scenarios where underfitting can occur in ML."
   ]
  },
  {
   "cell_type": "markdown",
   "id": "2ce2ad30-f6ad-4467-a64e-94512b6ea81b",
   "metadata": {},
   "source": [
    "- Underfitting occurs when a machine learning model is too simplistic to capture the underlying patterns in the data. \n",
    "\n",
    "- Insufficient Model Complexity\n",
    "- Limited Features\n",
    "- Inadequate Training\n",
    "- Small Training Dataset."
   ]
  },
  {
   "cell_type": "markdown",
   "id": "07fe28a3-abf2-4fa2-9027-c9f71efe51a7",
   "metadata": {},
   "source": [
    "# Q4.\n",
    "\n",
    "Explain the bias-variance tradeoff in machine learning. What is the relationship between bias and\n",
    "variance, and how do they affect model performance?"
   ]
  },
  {
   "cell_type": "markdown",
   "id": "5b325e4c-6bf4-4e8e-9c20-6243822eaa1a",
   "metadata": {},
   "source": [
    "- It refers to the balance that needs to be struck between two types of errors, bias error and variance error, when training a machine learning model.\n",
    "\n",
    "-  As you decrease bias, you tend to increase variance and vice versa. \n",
    "\n",
    "- Impact : \n",
    "    - High bias : Performs poorly on both training and test data.\n",
    "    - High variance : Performs well on training data but poorly on test data."
   ]
  },
  {
   "cell_type": "markdown",
   "id": "13c853a0-54a7-418a-94e5-b0bcff6fef81",
   "metadata": {},
   "source": [
    "# Q5.\n",
    "\n",
    "Discuss some common methods for detecting overfitting and underfitting in machine learning models.\n",
    "How can you determine whether your model is overfitting or underfitting?"
   ]
  },
  {
   "cell_type": "markdown",
   "id": "9b7cdc41-de40-4ca0-aa8d-59e8d75b93d0",
   "metadata": {},
   "source": [
    "- Cross-Validation\n",
    "- Learining Curves\n",
    "- Model Complexity Curves\n",
    "- Error Analysis\n",
    "- Regularization Inspection\n",
    "\n",
    "Determining : \n",
    "    \n",
    "    - Overfitting : Training error is significantly lower than validation error.\n",
    "    - Underfitting : Validation error remains high even as training progresses."
   ]
  },
  {
   "cell_type": "markdown",
   "id": "68c8bbb5-a6c7-4ff4-a081-1b98e53b4e95",
   "metadata": {},
   "source": [
    "# Q6.\n",
    "\n",
    "Compare and contrast bias and variance in machine learning. What are some examples of high bias\n",
    "and high variance models, and how do they differ in terms of their performance?"
   ]
  },
  {
   "cell_type": "markdown",
   "id": "962eb1d5-cbf5-4545-9280-cfb2fc8268a9",
   "metadata": {},
   "source": [
    "- Bias :\n",
    "    \n",
    "    - High bias associated with underfitting.\n",
    "    - The model is too simplistic and fails to capture the underlying patterns in the data.\n",
    "    - Performance is poor on both the training and test sets.\n",
    "    \n",
    "- Variance : \n",
    "    \n",
    "    - High variance is associated with overfitting.\n",
    "    - The model is too complex and may fit the noise in the training data.\n",
    "    - Performance is good on the training set but poor on the test set.\n",
    "    \n",
    "Examples : \n",
    "    \n",
    "- High Bias Model : Linear Regression model applied to highly nonlinear dataset.\n",
    "- High Variance Model : Decision tree with a large depth applied to a small dataset.\n",
    "\n",
    "Performance : \n",
    "    \n",
    "    - High Bias:\n",
    "\n",
    "        - Training Set: Poor performance\n",
    "        - Test Set: Poor performance\n",
    "\n",
    "    - High Variance:\n",
    "\n",
    "        - Training Set: Good performance \n",
    "        - Test Set: Poor performance "
   ]
  },
  {
   "cell_type": "markdown",
   "id": "79e42378-23c5-4e38-83f4-927f4ab5e8c0",
   "metadata": {},
   "source": [
    "# Q7.\n",
    "\n",
    "What is regularization in machine learning, and how can it be used to prevent overfitting? Describe\n",
    "some common regularization techniques and how they work."
   ]
  },
  {
   "cell_type": "markdown",
   "id": "b3d01628-aa1a-4d30-9bc5-3f9ffc79f32f",
   "metadata": {},
   "source": [
    "- Regularization in machine learning is a set of techniques used to prevent overfitting and improve the generalization performance of a model\n",
    "\n",
    "Common Regularization Techniques : \n",
    "\n",
    "- L1 Regularization\n",
    "- L2 Regularization\n",
    "- Elastic Net Regularization \n",
    "- Dropout"
   ]
  }
 ],
 "metadata": {
  "kernelspec": {
   "display_name": "Python 3 (ipykernel)",
   "language": "python",
   "name": "python3"
  },
  "language_info": {
   "codemirror_mode": {
    "name": "ipython",
    "version": 3
   },
   "file_extension": ".py",
   "mimetype": "text/x-python",
   "name": "python",
   "nbconvert_exporter": "python",
   "pygments_lexer": "ipython3",
   "version": "3.10.8"
  }
 },
 "nbformat": 4,
 "nbformat_minor": 5
}
